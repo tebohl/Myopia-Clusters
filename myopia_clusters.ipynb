{
 "cells": [
  {
   "cell_type": "code",
   "execution_count": null,
   "id": "99df99d6",
   "metadata": {},
   "outputs": [],
   "source": [
    "from sklearn.manifold import TSNE\n",
    "from sklearn.decomposition import PCA\n",
    "import matplotlib.pyplot as plt\n",
    "import pandas as pd\n",
    "from pathlib import Path"
   ]
  },
  {
   "cell_type": "code",
   "execution_count": null,
   "id": "9e2ed1eb",
   "metadata": {},
   "outputs": [],
   "source": [
    "file_path = 'myopia.csv'"
   ]
  },
  {
   "cell_type": "code",
   "execution_count": null,
   "id": "53de10a8",
   "metadata": {},
   "outputs": [],
   "source": [
    "myopia_df = pd.read_csv(file_path)"
   ]
  },
  {
   "cell_type": "code",
   "execution_count": null,
   "id": "5f2c0668",
   "metadata": {},
   "outputs": [],
   "source": [
    "myopia_df.head()"
   ]
  },
  {
   "cell_type": "code",
   "execution_count": null,
   "id": "034beff3",
   "metadata": {},
   "outputs": [],
   "source": []
  }
 ],
 "metadata": {
  "kernelspec": {
   "display_name": "Python [conda env:PythonData38] *",
   "language": "python",
   "name": "conda-env-PythonData38-py"
  },
  "language_info": {
   "codemirror_mode": {
    "name": "ipython",
    "version": 3
   },
   "file_extension": ".py",
   "mimetype": "text/x-python",
   "name": "python",
   "nbconvert_exporter": "python",
   "pygments_lexer": "ipython3",
   "version": "3.8.12"
  }
 },
 "nbformat": 4,
 "nbformat_minor": 5
}
